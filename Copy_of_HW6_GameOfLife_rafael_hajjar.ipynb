{
  "cells": [
    {
      "cell_type": "markdown",
      "metadata": {
        "id": "vQ_UQS0DBSQY"
      },
      "source": [
        " Game of Life"
      ]
    },
    {
      "cell_type": "code",
      "execution_count": null,
      "metadata": {
        "id": "E2jFz128BRgp"
      },
      "outputs": [],
      "source": [
        "import numpy as np\n",
        "import matplotlib.pyplot as plt\n",
        "\n",
        "\n",
        "def create_empty_board(height, width):\n",
        "  \"\"\"Create an empty board (numpy array) with `height` rows and `width` columns.\n",
        "\n",
        "  Inputs:\n",
        "    height (int):  number of rows for board.\n",
        "    width (int):  number of columns for board.\n",
        "\n",
        "  Outputs:\n",
        "    board (numpy array):  empty board of size height by width, full of zeros.\n",
        "  \"\"\"\n",
        "  return np.zeros((height, width))\n",
        "\n",
        "\n",
        "def create_random_board(height, width, prob_red, prob_blue):\n",
        "  \"\"\"Create a board (numpy array) with `height` rows and `width` columns, where\n",
        "  roughly `prob_red` fraction of the cells are red and roughly `prob_blue`\n",
        "  fraction of the cells are blue.  Checks that the total probability of a cell\n",
        "  to be non-empty is not more than 100%.\n",
        "\n",
        "  Inputs:\n",
        "    height (int):  number of rows for board.\n",
        "    width (int):  number of columns for board.\n",
        "    prob_red (float):  probability of a cell to be red.\n",
        "    prob_blue (float):  probability of a cell to be blue.\n",
        "\n",
        "  Outputs:\n",
        "    board (numpy array):  board of size height by width, with some cells red\n",
        "      (denoted by 1s), some cells blue (denoted by 2s), and some cells empty\n",
        "      (denoted by 0s).\n",
        "  \"\"\"\n",
        "  assert prob_red + prob_blue <= 1\n",
        "\n",
        "  board = create_empty_board(height, width)\n",
        "  rand_board = np.random.rand(height, width)\n",
        "\n",
        "  board[np.where(rand_board < prob_red)] = 1\n",
        "  board[np.where(rand_board > 1-prob_blue)] = 2\n",
        "\n",
        "  return board\n",
        "\n",
        "\n",
        "def visualize_board(board, red_fraction, blue_fraction, iteration):\n",
        "  \"\"\"Helper function to create a plot of the board.  It renders 0s in `board` as\n",
        "  white, 1s as red, and 2s as blue.  It also draws markers on any cells that are\n",
        "  unhappy.\n",
        "\n",
        "  Inputs:\n",
        "    board (numpy array):  game board.\n",
        "    red_fraction (float, from 0.0 to 1.0):  the fraction of red neighbors a red\n",
        "      cell requires to be happy.\n",
        "    blue_fraction (float, from 0.0 to 1.0):  the fraction of blue neighbors a\n",
        "      blue cell requires to be happy.\n",
        "    iteration (int):  the iteration number for solving the board, for\n",
        "      rendering it in the title of the plot.\n",
        "\n",
        "  Outputs:\n",
        "    Does not return anything but creates and renders a new matplotlib plot.\n",
        "  \"\"\"\n",
        "  plt.figure()\n",
        "  colored_board = np.tile(np.expand_dims(np.ones_like(board), axis=0), (3, 1, 1))\n",
        "  colored_board[:][np.tile(board==1, (3, 1, 1))] = np.repeat(np.array([1, 0, 0]), np.sum(board==1))\n",
        "  colored_board[:][np.tile(board==2, (3, 1, 1))] = np.repeat(np.array([0, 0, 1]), np.sum(board==2))\n",
        "  colored_board = np.transpose(colored_board, (1, 2, 0)).astype('float32')\n",
        "  plt.imshow(colored_board)\n",
        "\n",
        "  title = f'Board, Red Fraction {red_fraction}, Blue Fraction {blue_fraction}, Iteration {iteration}'\n",
        "  plt.title(title)\n",
        "\n",
        "  # Plot a yellow 'X' on all the unhappy cells, as determined by your function.\n",
        "  happiness_map = board_cells_are_happy(board, red_fraction, blue_fraction)\n",
        "\n",
        "  board_size = len(board)\n",
        "  marker_size = 500*25/(board_size**2)\n",
        "\n",
        "  unhappy_rows, unhappy_cols = np.where(happiness_map == False)\n",
        "  for row, col in zip(unhappy_rows, unhappy_cols):\n",
        "    plt.scatter(col, row, marker='X', s=marker_size, color='yellow')"
      ]
    },
    {
      "cell_type": "code",
      "execution_count": null,
      "metadata": {
        "id": "oS-NjCrdRJG8"
      },
      "outputs": [],
      "source": [
        "\n",
        "\n",
        "\n",
        "\n",
        "def board_cells_are_happy(board, red_fraction, blue_fraction):\n",
        "  \"\"\"\n",
        "\n",
        "  Returns a map of the board where each cell is marked as happy (boolean True)\n",
        "  or unhappy (boolean False).\n",
        "\n",
        "  Inputs:\n",
        "    board (numpy array):  game board.\n",
        "    red_fraction (float, from 0.0 to 1.0):  the fraction of red neighbors a red\n",
        "      cell requires to be happy.\n",
        "    blue_fraction (float, from 0.0 to 1.0):  the fraction of blue neighbors a\n",
        "      blue cell requires to be happy.\n",
        "\n",
        "  Outputs:\n",
        "    happy_map (numpy array, bool-valued):   an array matching the size of the\n",
        "      game board, where True-valued cells indicate happy or empty cells, and\n",
        "      False-valued cells indicate occupied unhappy cells.\n",
        "  \"\"\"\n",
        "  #happy_map = np.zeros_like(board, dtype=bool)   # starts with all locations\n",
        "                                                 # marked as unhappy (False).\n",
        "\n",
        "  boardwzer=np.zeros((board.shape[0] + 2 , board.shape[1] + 2), dtype=board.dtype)\n",
        "  boardwzer[1:1+board.shape[0], 1:1+board.shape[1]] = board#\n",
        "  happy_map = np.zeros_like(boardwzer, dtype=bool)\n",
        "  for row in range(boardwzer.shape[0]):\n",
        "      for col in range(boardwzer.shape[1]):\n",
        "          element = boardwzer[row, col]\n",
        "          if element ==1:\n",
        "            #red cells\n",
        "            red_count=-1\n",
        "            blue_count=0\n",
        "            for inrow in range(row-1,row+1):\n",
        "              for incol in range(col-1,col+1):\n",
        "                element_test = boardwzer[inrow, incol]\n",
        "                if element_test ==1:\n",
        "                  red_count=+1\n",
        "                elif element_test==2:\n",
        "                  blue_count=+1\n",
        "            if (red_count/(blue_count+0.0000001)) >= red_fraction:\n",
        "              happy_map[row,col]=True\n",
        "            else:\n",
        "              happy_map[row,col]=False\n",
        "\n",
        "          elif element==2:\n",
        "          #blue cells\n",
        "            red_count=0\n",
        "            blue_count=-1\n",
        "            for inrow in range(row-1,row+1):\n",
        "              for incol in range(col-1,col+1):\n",
        "                element_test = board[inrow,incol]\n",
        "                if element_test ==1:\n",
        "                  red_count=+1\n",
        "                elif element_test==2:\n",
        "                  blue_count=+1\n",
        "            if (blue_count/(red_count+0.0000001)) >= blue_fraction:\n",
        "              happy_map[row,col]=True\n",
        "            else:\n",
        "              happy_map[row,col]=False\n",
        "          else :\n",
        "            happy_map[row,col]=True\n",
        "  happy_resized=happy_map[1:(boardwzer.shape[0]-1),1:(boardwzer.shape[0]-1)]\n",
        "\n",
        "\n",
        "\n",
        "  return happy_resized   # `happy_map` should be updated in student code\n",
        "def check_fractions(board, row, col, red_fraction, blue_fraction):\n",
        "  '''\n",
        "  checks for other spots where the if the item wold move to it then the fraction of like neighbours would increas.\n",
        "  if there are no happy places for it to move to.\n",
        "\n",
        "  Inputs:\n",
        "    board (numpy array):  game board.\n",
        "    row (int):  the row of the cell of interest.\n",
        "    col (int):  the column of the cell of interest.\n",
        "    red_fraction (float, from 0.0 to 1.0):  the fraction of red neighbors a red\n",
        "      cell requires to be happy.\n",
        "    blue_fraction (float, from 0.0 to 1.0):  the fraction of blue neighbors a\n",
        "      blue cell requires to be happy.\n",
        "\n",
        "  Ouputs:\n",
        "    new_row (int):  the row of the suggested new location for the cell to move.\n",
        "    new_col (int):  the column of the suggested new location for the cell to\n",
        "      move.\n",
        "  '''\n",
        "  testfraction=0\n",
        "  element= board[row, col]\n",
        "  if element==1:\n",
        "    for row_empt in range(board.shape[0]):\n",
        "      for col_empt in range(board.shape[1]):\n",
        "        if board[row_empt,col_empt]==0:\n",
        "          red_count=-1\n",
        "          blue_count=0\n",
        "          for inrow in range(row-1,row+1):\n",
        "           for incol in range(col-1,col+1):\n",
        "              element_test = board[inrow, incol]\n",
        "              if element_test ==1:\n",
        "               red_count=+1\n",
        "              elif element_test==2:\n",
        "               blue_count=+1\n",
        "          if (red_count/(blue_count+0.0000001)) > testfraction:\n",
        "            good_row=row_empt\n",
        "            good_col=col_empt\n",
        "\n",
        "  elif element==2:\n",
        "    for row_empt in range(board.shape[0]):\n",
        "      for col_empt in range(board.shape[1]):\n",
        "        if board[row_empt,col_empt]==0:\n",
        "          red_count=0\n",
        "          blue_count=-1\n",
        "          for inrow in range(row-1,row+1):\n",
        "           for incol in range(col-1,col+1):\n",
        "              element_test = board[inrow, incol]\n",
        "              if element_test ==1:\n",
        "               red_count=+1\n",
        "              elif element_test==2:\n",
        "               blue_count=+1\n",
        "          if (blue_count/(red_count+0.0000001)) >= testfraction:\n",
        "            good_row=row_empt\n",
        "            good_col=col_empt\n",
        "  return (good_row,good_col)\n",
        "def closest_best_place_to_move(board, row, col, red_fraction, blue_fraction):\n",
        "  \"\"\"\n",
        "\n",
        "  Inputs:\n",
        "    board (numpy array):  game board.\n",
        "    row (int):  the row of the cell of interest.\n",
        "    col (int):  the column of the cell of interest.\n",
        "    red_fraction (float, from 0.0 to 1.0):  the fraction of red neighbors a red\n",
        "      cell requires to be happy.\n",
        "    blue_fraction (float, from 0.0 to 1.0):  the fraction of blue neighbors a\n",
        "      blue cell requires to be happy.\n",
        "\n",
        "  Ouputs:\n",
        "    new_row (int):  the row of the suggested new location for the cell to move.\n",
        "    new_col (int):  the column of the suggested new location for the cell to\n",
        "      move.\n",
        "  \"\"\"\n",
        "  assert board[row, col] != 0\n",
        "  good_row = row      # should be updated in student code\n",
        "  good_col = col\n",
        "  dist=100000000000000\n",
        "  # INSERT STUDENT CODE HERE:\n",
        "  element= board[row, col]\n",
        "  if element==1:\n",
        "    for row_empt in range(board.shape[0]):\n",
        "      for col_empt in range(board.shape[1]):\n",
        "        if board[row_empt,col_empt]==0:\n",
        "          red_count=-1\n",
        "          blue_count=0\n",
        "          for inrow in range(row-1,row+1):\n",
        "           for incol in range(col-1,col+1):\n",
        "              element_test = board[inrow, incol]\n",
        "              if element_test ==1:\n",
        "               red_count=+1\n",
        "              elif element_test==2:\n",
        "               blue_count=+1\n",
        "          if (red_count/blue_count) >= red_fraction:\n",
        "            dist_test=(abs(row-row_empt)-abs(col-col_empt))\n",
        "            if dist_test<dist:\n",
        "              good_row=row_empt\n",
        "              good_col=col_empt\n",
        "          else:\n",
        "            check_fractions(board, row, col, red_fraction, blue_fraction)\n",
        "\n",
        "  elif element==2:\n",
        "    for row_empt in range(board.shape[0]):\n",
        "      for col_empt in range(board.shape[1]):\n",
        "        if board[row_empt,col_empt]==0:\n",
        "          red_count=0\n",
        "          blue_count=-1\n",
        "\n",
        "          for inrow in range(row-1,row+1):\n",
        "           for incol in range(col-1,col+1):\n",
        "              element_test = board[inrow, incol]\n",
        "              if element_test ==1:\n",
        "               red_count=+1\n",
        "              elif element_test==2:\n",
        "               blue_count=+1\n",
        "          if (blue_count/red_count) >= blue_fraction:\n",
        "            dist_test=abs(row-row_empt)-abs(col-col_empt)\n",
        "            if dist_test<dist:\n",
        "              good_row=row_empt\n",
        "              good_col=col_empt\n",
        "            else:\n",
        "              check_fractions(board, row, col, red_fraction, blue_fraction)\n",
        "  return (good_row,good_col)\n",
        "  #good_row = row      # should be updated in student code\n",
        "  #good_col = col      # should be updated in student code\n",
        "\n",
        "  # Strongly suggest keeping the below print statement to give some debugging\n",
        "  # help, if the suggested choices don't look right, and to give some feedback\n",
        "  # that your code is running.\n",
        "  print(f'Suggest moving ({row}, {col}) to ({good_row}, {good_col})')\n",
        "\n",
        "\n",
        "def perform_an_iteration(board, red_fraction, blue_fraction):\n",
        "  \"\"\"\n",
        "\n",
        "  Performs one iteration of the game.  The unhappy agents are moved one-by-one\n",
        "  in order from left to right, then from top to bottom.  If an agent was unhappy\n",
        "  at the start of the round and then becomes happy because one of its neighbors\n",
        "  moves, it does not move that round (because the closest possible location that\n",
        "  makes it happy is where it is right now).  If an agent was happy but becomes\n",
        "  unhappy because one of its neighbor moves, it waits until the next round to\n",
        "  move.\n",
        "\n",
        "  Inputs:\n",
        "    board (numpy array):  game board.\n",
        "    red_fraction (float, from 0.0 to 1.0):  the fraction of red neighbors a red\n",
        "      cell requires to be happy.\n",
        "    blue_fraction (float, from 0.0 to 1.0):  the fraction of blue neighbors a\n",
        "      blue cell requires to be happy.\n",
        "\n",
        "  Ouputs:\n",
        "    board (numpy array):  game board with the changes from one full iteration of\n",
        "      gameplay.\n",
        "  \"\"\"\n",
        "\n",
        "  Map_of_hap=board_cells_are_happy(board, red_fraction, blue_fraction)\n",
        "  for row_empt in range(board.shape[0]):\n",
        "      for col_empt in range(board.shape[1]):\n",
        "        if not Map_of_hap[row,col]:\n",
        "          row_move,col_move=closest_best_place_to_move(board, row, col, red_fraction, blue_fraction)\n",
        "          temp_hold=board[row,col]\n",
        "          board[row,col]=0\n",
        "          board[row_move,col_move]=temp_hold\n",
        "\n",
        "\n",
        "\n",
        "  return board    # `board` should be updated in student code\n",
        "\n",
        "\n",
        "def resolve_board(board, red_fraction, blue_fraction):\n",
        "  \"\"\"\n",
        "\n",
        "  Resolves the board through as many iterations as necessary, terminating either\n",
        "  when board is all happy or when the board cannot be updated to a happier\n",
        "  state.\n",
        "\n",
        "  Inputs:\n",
        "    board (numpy array):  game board.\n",
        "    red_fraction (float, from 0.0 to 1.0):  the fraction of red neighbors a red\n",
        "      cell requires to be happy.\n",
        "    blue_fraction (float, from 0.0 to 1.0):  the fraction of blue neighbors a\n",
        "      blue cell requires to be happy.\n",
        "\n",
        "  Ouputs:\n",
        "    Does not return anything but creates and renders a new matplotlib plot for\n",
        "    every iteration of the game.\n",
        "  \"\"\"\n",
        "  iteration = 0                       # should be updated in student code\n",
        "  how_finished = 'NOT successfully'   # should be updated in student code\n",
        "  visualize_board(board, red_fraction, blue_fraction, iteration)\n",
        "\n",
        "  old_board=np.zeros_like(board, dtype=dtype(board))\n",
        "  i=1\n",
        "  true_array = np.full((board.shape[0],board.shape[1]), True, dtype=bool)\n",
        "  while i==1:\n",
        "    old_board=board\n",
        "    board=perform_an_iteration(board, red_fraction, blue_fraction)\n",
        "    iteration+1\n",
        "    all_hap_test=board_cells_are_happy(board, red_fraction, blue_fraction)\n",
        "    if all_hap_test==true_array:\n",
        "      i=0\n",
        "      how_finished=\"as all items are happy\"\n",
        "    elif old_board==board:\n",
        "      i=0\n",
        "      how_finished=\"there are no better places for the unhappy cellse to go\"\n",
        "\n",
        "\n",
        "\n",
        "\n",
        "\n",
        "  visualize_board(board, red_fraction, blue_fraction, iteration)\n",
        "  print(f'Finished {how_finished} in {iteration} iterations.')"
      ]
    },
    {
      "cell_type": "markdown",
      "metadata": {
        "id": "Y7MV3001tdeQ"
      },
      "source": [
        "# Test Code\n"
      ]
    },
    {
      "cell_type": "code",
      "execution_count": null,
      "metadata": {
        "id": "xv7aMwJuwUNv"
      },
      "outputs": [],
      "source": [
        "def check_case_example_from_handout():\n",
        "  \"\"\"This case matches the 5-by-5 example in the homework handout.\"\"\"\n",
        "  board = np.array([[1, 0, 1, 1, 2],\n",
        "                    [0, 2, 0, 0, 0],\n",
        "                    [1, 0, 0, 2, 0],\n",
        "                    [0, 1, 2, 1, 2],\n",
        "                    [0, 2, 2, 0, 1]])\n",
        "  resolve_board(board, 0.5, 0.5)\n",
        "\n",
        "def check_case_where_fraction_is_not_satisfied():\n",
        "  \"\"\"This example tests the edge case where a square is unhappy and there is no\n",
        "  other location for it to move where it would be happy.  In this case the\n",
        "  square needs to move to (one of) the cell(s) with the highest percentage of\n",
        "  like-neighbors.\"\"\"\n",
        "  board = np.array([[2, 0, 1, 0, 2],\n",
        "                    [0, 2, 2, 0, 0],\n",
        "                    [2, 0, 0, 0, 2],\n",
        "                    [1, 0, 0, 2, 0],\n",
        "                    [0, 2, 0, 0, 2]])\n",
        "  resolve_board(board, 0.5, 0.5)\n",
        "\n",
        "def check_case_with_stuck_game():\n",
        "  \"\"\"This case tests the edge case where the board is completely full and there\n",
        "  are unhappy squares.  The `resolve_board` function should terminate after 1\n",
        "  iteration since none of the unhappy cells can move.\"\"\"\n",
        "  board = np.array([[1, 0], [0, 2]])\n",
        "  resolve_board(board, 0.5, 0.5)\n",
        "\n",
        "def check_case_with_even_neighbors():\n",
        "  \"\"\"This case tests the edge case where the center square has an even number of\n",
        "  blue and red neighbors.  With 50% as the requirement for like neighbors, this\n",
        "  center square should be happy.  However two of the other squares are unhappy\n",
        "  at first.  One can move to increase its fraction of like neighbors, but\n",
        "  ultimately the game has to terminate early since it can't be made entirely\n",
        "  happy.\"\"\"\n",
        "  board = np.array([[1, 0, 2], [0, 2, 0], [2, 0, 1]])\n",
        "  resolve_board(board, 0.5, 0.5)\n",
        "\n",
        "def check_case_where_one_team_does_not_care():\n",
        "  \"\"\"This case tests different preference fractions between the red and blue\n",
        "  teams.  Specifically, only red cares about the fraction of its neighbors (to\n",
        "  be at least 50% red) while the blue team does not care at all (neighbors to be\n",
        "  at least 0% blue).\"\"\"\n",
        "  board = np.array([[2, 2, 2, 1, 0, 1, 0, 1, 2, 2],\n",
        "                    [0, 1, 2, 1, 1, 2, 0, 2, 0, 2],\n",
        "                    [1, 2, 1, 2, 2, 0, 0, 0, 0, 2],\n",
        "                    [1, 1, 0, 1, 1, 2, 2, 0, 1, 1],\n",
        "                    [1, 2, 0, 1, 1, 1, 1, 2, 2, 2]])\n",
        "  resolve_board(board, 0.5, 0.0)\n",
        "\n",
        "def check_case_with_unbalanced_board():\n",
        "  \"\"\"This case features a random board with approximately twice as many blue\n",
        "  cells as red cells, where both teams prefer half of their neighbors to match\n",
        "  their color.  This case usually terminates with blue ending happy and some\n",
        "  red cells ending unhappy but unable to move to happier locations.\"\"\"\n",
        "  board = create_random_board(20, 20, 0.3, 0.6)\n",
        "  resolve_board(board, 0.5, 0.5)\n",
        "\n",
        "def check_case_with_slight_neighbor_preference():\n",
        "  \"\"\"This case features a random board and teams which only slightly prefer\n",
        "  their neighbors to match their color.\"\"\"\n",
        "  board = create_random_board(20, 20, 0.45, 0.45)\n",
        "  resolve_board(board, 0.2, 0.2)\n",
        "\n",
        "def check_case_with_large_crowded_board():\n",
        "  \"\"\"This case tests a large 50-by-50 game board with a fairly densely packed\n",
        "  occupancy at around 90% occupied.  The board is randomly generated every time.\n",
        "  This example can take minutes to solve (~5 minutes from the teaching staff's\n",
        "  experience) and successfully terminates, usually in under 10 iterations.\"\"\"\n",
        "  board = create_random_board(50, 50, 0.45, 0.45)\n",
        "  resolve_board(board, 0.5, 0.5)\n",
        "\n",
        "def check_random_case_with_board_size_fraction_density(\n",
        "    height, width, red_fraction, blue_fraction, red_density, blue_density):\n",
        "  \"\"\"This is a flexible test case which you can use to provide your own board\n",
        "  size, red and blue fractions, and red and blue densities.  The densities refer\n",
        "  to the approximate fraction of the cells to set to red/blue respectively.  You\n",
        "  can call this function yourself with these provided values.\"\"\"\n",
        "  board = create_random_board(height, width, red_density, blue_density)\n",
        "  resolve_board(board, red_fraction, blue_fraction)"
      ]
    },
    {
      "cell_type": "markdown",
      "metadata": {
        "id": "QU7oQfLGSIaC"
      },
      "source": [
        "# Test Results\n",
        "\n",
        "There are several cells which call one of the above defined tests at a time.  When you turn in your assignment, ensure to show the output of each of these code cells."
      ]
    },
    {
      "cell_type": "code",
      "execution_count": null,
      "metadata": {
        "colab": {
          "base_uri": "https://localhost:8080/",
          "height": 756
        },
        "id": "5i9AdWBT4C84",
        "outputId": "3a49cc14-6795-4fb3-8c4e-68324ece014f"
      },
      "outputs": [
        {
          "ename": "IndexError",
          "evalue": "ignored",
          "output_type": "error",
          "traceback": [
            "\u001b[0;31m---------------------------------------------------------------------------\u001b[0m",
            "\u001b[0;31mIndexError\u001b[0m                                Traceback (most recent call last)",
            "\u001b[0;32m<ipython-input-52-bdaa4d1085e6>\u001b[0m in \u001b[0;36m<cell line: 1>\u001b[0;34m()\u001b[0m\n\u001b[0;32m----> 1\u001b[0;31m \u001b[0mcheck_case_example_from_handout\u001b[0m\u001b[0;34m(\u001b[0m\u001b[0;34m)\u001b[0m\u001b[0;34m\u001b[0m\u001b[0;34m\u001b[0m\u001b[0m\n\u001b[0m",
            "\u001b[0;32m<ipython-input-51-c115bfafd06c>\u001b[0m in \u001b[0;36mcheck_case_example_from_handout\u001b[0;34m()\u001b[0m\n\u001b[1;32m      6\u001b[0m                     \u001b[0;34m[\u001b[0m\u001b[0;36m0\u001b[0m\u001b[0;34m,\u001b[0m \u001b[0;36m1\u001b[0m\u001b[0;34m,\u001b[0m \u001b[0;36m2\u001b[0m\u001b[0;34m,\u001b[0m \u001b[0;36m1\u001b[0m\u001b[0;34m,\u001b[0m \u001b[0;36m2\u001b[0m\u001b[0;34m]\u001b[0m\u001b[0;34m,\u001b[0m\u001b[0;34m\u001b[0m\u001b[0;34m\u001b[0m\u001b[0m\n\u001b[1;32m      7\u001b[0m                     [0, 2, 2, 0, 1]])\n\u001b[0;32m----> 8\u001b[0;31m   \u001b[0mresolve_board\u001b[0m\u001b[0;34m(\u001b[0m\u001b[0mboard\u001b[0m\u001b[0;34m,\u001b[0m \u001b[0;36m0.5\u001b[0m\u001b[0;34m,\u001b[0m \u001b[0;36m0.5\u001b[0m\u001b[0;34m)\u001b[0m\u001b[0;34m\u001b[0m\u001b[0;34m\u001b[0m\u001b[0m\n\u001b[0m\u001b[1;32m      9\u001b[0m \u001b[0;34m\u001b[0m\u001b[0m\n\u001b[1;32m     10\u001b[0m \u001b[0;32mdef\u001b[0m \u001b[0mcheck_case_where_fraction_is_not_satisfied\u001b[0m\u001b[0;34m(\u001b[0m\u001b[0;34m)\u001b[0m\u001b[0;34m:\u001b[0m\u001b[0;34m\u001b[0m\u001b[0;34m\u001b[0m\u001b[0m\n",
            "\u001b[0;32m<ipython-input-50-030de8595b6b>\u001b[0m in \u001b[0;36mresolve_board\u001b[0;34m(board, red_fraction, blue_fraction)\u001b[0m\n\u001b[1;32m    293\u001b[0m   \u001b[0miteration\u001b[0m \u001b[0;34m=\u001b[0m \u001b[0;36m0\u001b[0m                       \u001b[0;31m# should be updated in student code\u001b[0m\u001b[0;34m\u001b[0m\u001b[0;34m\u001b[0m\u001b[0m\n\u001b[1;32m    294\u001b[0m   \u001b[0mhow_finished\u001b[0m \u001b[0;34m=\u001b[0m \u001b[0;34m'NOT successfully'\u001b[0m   \u001b[0;31m# should be updated in student code\u001b[0m\u001b[0;34m\u001b[0m\u001b[0;34m\u001b[0m\u001b[0m\n\u001b[0;32m--> 295\u001b[0;31m   \u001b[0mvisualize_board\u001b[0m\u001b[0;34m(\u001b[0m\u001b[0mboard\u001b[0m\u001b[0;34m,\u001b[0m \u001b[0mred_fraction\u001b[0m\u001b[0;34m,\u001b[0m \u001b[0mblue_fraction\u001b[0m\u001b[0;34m,\u001b[0m \u001b[0miteration\u001b[0m\u001b[0;34m)\u001b[0m\u001b[0;34m\u001b[0m\u001b[0;34m\u001b[0m\u001b[0m\n\u001b[0m\u001b[1;32m    296\u001b[0m \u001b[0;34m\u001b[0m\u001b[0m\n\u001b[1;32m    297\u001b[0m   \u001b[0;31m# INSERT STUDENT CODE HERE:\u001b[0m\u001b[0;34m\u001b[0m\u001b[0;34m\u001b[0m\u001b[0m\n",
            "\u001b[0;32m<ipython-input-49-b8d22a39c36c>\u001b[0m in \u001b[0;36mvisualize_board\u001b[0;34m(board, red_fraction, blue_fraction, iteration)\u001b[0m\n\u001b[1;32m     72\u001b[0m \u001b[0;34m\u001b[0m\u001b[0m\n\u001b[1;32m     73\u001b[0m   \u001b[0;31m# Plot a yellow 'X' on all the unhappy cells, as determined by your function.\u001b[0m\u001b[0;34m\u001b[0m\u001b[0;34m\u001b[0m\u001b[0m\n\u001b[0;32m---> 74\u001b[0;31m   \u001b[0mhappiness_map\u001b[0m \u001b[0;34m=\u001b[0m \u001b[0mboard_cells_are_happy\u001b[0m\u001b[0;34m(\u001b[0m\u001b[0mboard\u001b[0m\u001b[0;34m,\u001b[0m \u001b[0mred_fraction\u001b[0m\u001b[0;34m,\u001b[0m \u001b[0mblue_fraction\u001b[0m\u001b[0;34m)\u001b[0m\u001b[0;34m\u001b[0m\u001b[0;34m\u001b[0m\u001b[0m\n\u001b[0m\u001b[1;32m     75\u001b[0m \u001b[0;34m\u001b[0m\u001b[0m\n\u001b[1;32m     76\u001b[0m   \u001b[0mboard_size\u001b[0m \u001b[0;34m=\u001b[0m \u001b[0mlen\u001b[0m\u001b[0;34m(\u001b[0m\u001b[0mboard\u001b[0m\u001b[0;34m)\u001b[0m\u001b[0;34m\u001b[0m\u001b[0;34m\u001b[0m\u001b[0m\n",
            "\u001b[0;32m<ipython-input-50-030de8595b6b>\u001b[0m in \u001b[0;36mboard_cells_are_happy\u001b[0;34m(board, red_fraction, blue_fraction)\u001b[0m\n\u001b[1;32m     59\u001b[0m             \u001b[0;32mfor\u001b[0m \u001b[0minrow\u001b[0m \u001b[0;32min\u001b[0m \u001b[0mrange\u001b[0m\u001b[0;34m(\u001b[0m\u001b[0mrow\u001b[0m\u001b[0;34m-\u001b[0m\u001b[0;36m1\u001b[0m\u001b[0;34m,\u001b[0m\u001b[0mrow\u001b[0m\u001b[0;34m+\u001b[0m\u001b[0;36m1\u001b[0m\u001b[0;34m)\u001b[0m\u001b[0;34m:\u001b[0m\u001b[0;34m\u001b[0m\u001b[0;34m\u001b[0m\u001b[0m\n\u001b[1;32m     60\u001b[0m               \u001b[0;32mfor\u001b[0m \u001b[0mincol\u001b[0m \u001b[0;32min\u001b[0m \u001b[0mrange\u001b[0m\u001b[0;34m(\u001b[0m\u001b[0mcol\u001b[0m\u001b[0;34m-\u001b[0m\u001b[0;36m1\u001b[0m\u001b[0;34m,\u001b[0m\u001b[0mcol\u001b[0m\u001b[0;34m+\u001b[0m\u001b[0;36m1\u001b[0m\u001b[0;34m)\u001b[0m\u001b[0;34m:\u001b[0m\u001b[0;34m\u001b[0m\u001b[0;34m\u001b[0m\u001b[0m\n\u001b[0;32m---> 61\u001b[0;31m                 \u001b[0melement_test\u001b[0m \u001b[0;34m=\u001b[0m \u001b[0mboard\u001b[0m\u001b[0;34m[\u001b[0m\u001b[0minrow\u001b[0m\u001b[0;34m,\u001b[0m \u001b[0mincol\u001b[0m\u001b[0;34m]\u001b[0m\u001b[0;34m\u001b[0m\u001b[0;34m\u001b[0m\u001b[0m\n\u001b[0m\u001b[1;32m     62\u001b[0m                 \u001b[0;32mif\u001b[0m \u001b[0melement_test\u001b[0m \u001b[0;34m==\u001b[0m\u001b[0;36m1\u001b[0m\u001b[0;34m:\u001b[0m\u001b[0;34m\u001b[0m\u001b[0;34m\u001b[0m\u001b[0m\n\u001b[1;32m     63\u001b[0m                   \u001b[0mred_count\u001b[0m\u001b[0;34m=\u001b[0m\u001b[0;34m+\u001b[0m\u001b[0;36m1\u001b[0m\u001b[0;34m\u001b[0m\u001b[0;34m\u001b[0m\u001b[0m\n",
            "\u001b[0;31mIndexError\u001b[0m: index 5 is out of bounds for axis 1 with size 5"
          ]
        },
        {
          "data": {
            "image/png": "[encoded data removed]",
            "text/plain": [
              "<Figure size 640x480 with 1 Axes>"
            ]
          },
          "metadata": {},
          "output_type": "display_data"
        }
      ],
      "source": [
        "check_case_example_from_handout()"
      ]
    },
    {
      "cell_type": "code",
      "execution_count": null,
      "metadata": {
        "colab": {
          "base_uri": "https://localhost:8080/",
          "height": 756
        },
        "id": "4fzh0o3NKM4n",
        "outputId": "7c9e3db0-0857-4a51-f786-d89fd8e65c57"
      },
      "outputs": [
        {
          "ename": "IndexError",
          "evalue": "ignored",
          "output_type": "error",
          "traceback": [
            "\u001b[0;31m---------------------------------------------------------------------------\u001b[0m",
            "\u001b[0;31mIndexError\u001b[0m                                Traceback (most recent call last)",
            "\u001b[0;32m<ipython-input-54-90a114b31067>\u001b[0m in \u001b[0;36m<cell line: 1>\u001b[0;34m()\u001b[0m\n\u001b[0;32m----> 1\u001b[0;31m \u001b[0mcheck_case_where_fraction_is_not_satisfied\u001b[0m\u001b[0;34m(\u001b[0m\u001b[0;34m)\u001b[0m\u001b[0;34m\u001b[0m\u001b[0;34m\u001b[0m\u001b[0m\n\u001b[0m",
            "\u001b[0;32m<ipython-input-51-c115bfafd06c>\u001b[0m in \u001b[0;36mcheck_case_where_fraction_is_not_satisfied\u001b[0;34m()\u001b[0m\n\u001b[1;32m     18\u001b[0m                     \u001b[0;34m[\u001b[0m\u001b[0;36m1\u001b[0m\u001b[0;34m,\u001b[0m \u001b[0;36m0\u001b[0m\u001b[0;34m,\u001b[0m \u001b[0;36m0\u001b[0m\u001b[0;34m,\u001b[0m \u001b[0;36m2\u001b[0m\u001b[0;34m,\u001b[0m \u001b[0;36m0\u001b[0m\u001b[0;34m]\u001b[0m\u001b[0;34m,\u001b[0m\u001b[0;34m\u001b[0m\u001b[0;34m\u001b[0m\u001b[0m\n\u001b[1;32m     19\u001b[0m                     [0, 2, 0, 0, 2]])\n\u001b[0;32m---> 20\u001b[0;31m   \u001b[0mresolve_board\u001b[0m\u001b[0;34m(\u001b[0m\u001b[0mboard\u001b[0m\u001b[0;34m,\u001b[0m \u001b[0;36m0.5\u001b[0m\u001b[0;34m,\u001b[0m \u001b[0;36m0.5\u001b[0m\u001b[0;34m)\u001b[0m\u001b[0;34m\u001b[0m\u001b[0;34m\u001b[0m\u001b[0m\n\u001b[0m\u001b[1;32m     21\u001b[0m \u001b[0;34m\u001b[0m\u001b[0m\n\u001b[1;32m     22\u001b[0m \u001b[0;32mdef\u001b[0m \u001b[0mcheck_case_with_stuck_game\u001b[0m\u001b[0;34m(\u001b[0m\u001b[0;34m)\u001b[0m\u001b[0;34m:\u001b[0m\u001b[0;34m\u001b[0m\u001b[0;34m\u001b[0m\u001b[0m\n",
            "\u001b[0;32m<ipython-input-50-030de8595b6b>\u001b[0m in \u001b[0;36mresolve_board\u001b[0;34m(board, red_fraction, blue_fraction)\u001b[0m\n\u001b[1;32m    293\u001b[0m   \u001b[0miteration\u001b[0m \u001b[0;34m=\u001b[0m \u001b[0;36m0\u001b[0m                       \u001b[0;31m# should be updated in student code\u001b[0m\u001b[0;34m\u001b[0m\u001b[0;34m\u001b[0m\u001b[0m\n\u001b[1;32m    294\u001b[0m   \u001b[0mhow_finished\u001b[0m \u001b[0;34m=\u001b[0m \u001b[0;34m'NOT successfully'\u001b[0m   \u001b[0;31m# should be updated in student code\u001b[0m\u001b[0;34m\u001b[0m\u001b[0;34m\u001b[0m\u001b[0m\n\u001b[0;32m--> 295\u001b[0;31m   \u001b[0mvisualize_board\u001b[0m\u001b[0;34m(\u001b[0m\u001b[0mboard\u001b[0m\u001b[0;34m,\u001b[0m \u001b[0mred_fraction\u001b[0m\u001b[0;34m,\u001b[0m \u001b[0mblue_fraction\u001b[0m\u001b[0;34m,\u001b[0m \u001b[0miteration\u001b[0m\u001b[0;34m)\u001b[0m\u001b[0;34m\u001b[0m\u001b[0;34m\u001b[0m\u001b[0m\n\u001b[0m\u001b[1;32m    296\u001b[0m \u001b[0;34m\u001b[0m\u001b[0m\n\u001b[1;32m    297\u001b[0m   \u001b[0;31m# INSERT STUDENT CODE HERE:\u001b[0m\u001b[0;34m\u001b[0m\u001b[0;34m\u001b[0m\u001b[0m\n",
            "\u001b[0;32m<ipython-input-49-b8d22a39c36c>\u001b[0m in \u001b[0;36mvisualize_board\u001b[0;34m(board, red_fraction, blue_fraction, iteration)\u001b[0m\n\u001b[1;32m     72\u001b[0m \u001b[0;34m\u001b[0m\u001b[0m\n\u001b[1;32m     73\u001b[0m   \u001b[0;31m# Plot a yellow 'X' on all the unhappy cells, as determined by your function.\u001b[0m\u001b[0;34m\u001b[0m\u001b[0;34m\u001b[0m\u001b[0m\n\u001b[0;32m---> 74\u001b[0;31m   \u001b[0mhappiness_map\u001b[0m \u001b[0;34m=\u001b[0m \u001b[0mboard_cells_are_happy\u001b[0m\u001b[0;34m(\u001b[0m\u001b[0mboard\u001b[0m\u001b[0;34m,\u001b[0m \u001b[0mred_fraction\u001b[0m\u001b[0;34m,\u001b[0m \u001b[0mblue_fraction\u001b[0m\u001b[0;34m)\u001b[0m\u001b[0;34m\u001b[0m\u001b[0;34m\u001b[0m\u001b[0m\n\u001b[0m\u001b[1;32m     75\u001b[0m \u001b[0;34m\u001b[0m\u001b[0m\n\u001b[1;32m     76\u001b[0m   \u001b[0mboard_size\u001b[0m \u001b[0;34m=\u001b[0m \u001b[0mlen\u001b[0m\u001b[0;34m(\u001b[0m\u001b[0mboard\u001b[0m\u001b[0;34m)\u001b[0m\u001b[0;34m\u001b[0m\u001b[0;34m\u001b[0m\u001b[0m\n",
            "\u001b[0;32m<ipython-input-50-030de8595b6b>\u001b[0m in \u001b[0;36mboard_cells_are_happy\u001b[0;34m(board, red_fraction, blue_fraction)\u001b[0m\n\u001b[1;32m     59\u001b[0m             \u001b[0;32mfor\u001b[0m \u001b[0minrow\u001b[0m \u001b[0;32min\u001b[0m \u001b[0mrange\u001b[0m\u001b[0;34m(\u001b[0m\u001b[0mrow\u001b[0m\u001b[0;34m-\u001b[0m\u001b[0;36m1\u001b[0m\u001b[0;34m,\u001b[0m\u001b[0mrow\u001b[0m\u001b[0;34m+\u001b[0m\u001b[0;36m1\u001b[0m\u001b[0;34m)\u001b[0m\u001b[0;34m:\u001b[0m\u001b[0;34m\u001b[0m\u001b[0;34m\u001b[0m\u001b[0m\n\u001b[1;32m     60\u001b[0m               \u001b[0;32mfor\u001b[0m \u001b[0mincol\u001b[0m \u001b[0;32min\u001b[0m \u001b[0mrange\u001b[0m\u001b[0;34m(\u001b[0m\u001b[0mcol\u001b[0m\u001b[0;34m-\u001b[0m\u001b[0;36m1\u001b[0m\u001b[0;34m,\u001b[0m\u001b[0mcol\u001b[0m\u001b[0;34m+\u001b[0m\u001b[0;36m1\u001b[0m\u001b[0;34m)\u001b[0m\u001b[0;34m:\u001b[0m\u001b[0;34m\u001b[0m\u001b[0;34m\u001b[0m\u001b[0m\n\u001b[0;32m---> 61\u001b[0;31m                 \u001b[0melement_test\u001b[0m \u001b[0;34m=\u001b[0m \u001b[0mboard\u001b[0m\u001b[0;34m[\u001b[0m\u001b[0minrow\u001b[0m\u001b[0;34m,\u001b[0m \u001b[0mincol\u001b[0m\u001b[0;34m]\u001b[0m\u001b[0;34m\u001b[0m\u001b[0;34m\u001b[0m\u001b[0m\n\u001b[0m\u001b[1;32m     62\u001b[0m                 \u001b[0;32mif\u001b[0m \u001b[0melement_test\u001b[0m \u001b[0;34m==\u001b[0m\u001b[0;36m1\u001b[0m\u001b[0;34m:\u001b[0m\u001b[0;34m\u001b[0m\u001b[0;34m\u001b[0m\u001b[0m\n\u001b[1;32m     63\u001b[0m                   \u001b[0mred_count\u001b[0m\u001b[0;34m=\u001b[0m\u001b[0;34m+\u001b[0m\u001b[0;36m1\u001b[0m\u001b[0;34m\u001b[0m\u001b[0;34m\u001b[0m\u001b[0m\n",
            "\u001b[0;31mIndexError\u001b[0m: index 5 is out of bounds for axis 1 with size 5"
          ]
        },
        {
          "data": {
            "image/png": "[encoded data removed]",
            "text/plain": [
              "<Figure size 640x480 with 1 Axes>"
            ]
          },
          "metadata": {},
          "output_type": "display_data"
        }
      ],
      "source": [
        "check_case_where_fraction_is_not_satisfied()"
      ]
    },
    {
      "cell_type": "code",
      "execution_count": null,
      "metadata": {
        "id": "rye2Sc7aKPXC"
      },
      "outputs": [],
      "source": [
        "check_case_with_stuck_game()"
      ]
    },
    {
      "cell_type": "code",
      "execution_count": null,
      "metadata": {
        "id": "zdItL_qhKRbk"
      },
      "outputs": [],
      "source": [
        "check_case_with_even_neighbors()"
      ]
    },
    {
      "cell_type": "code",
      "execution_count": null,
      "metadata": {
        "id": "hkIdRSqIKTWf"
      },
      "outputs": [],
      "source": [
        "check_case_where_one_team_does_not_care()"
      ]
    },
    {
      "cell_type": "code",
      "execution_count": null,
      "metadata": {
        "id": "4YpsUF_bKVik"
      },
      "outputs": [],
      "source": [
        "check_case_with_unbalanced_board()"
      ]
    },
    {
      "cell_type": "code",
      "execution_count": null,
      "metadata": {
        "colab": {
          "base_uri": "https://localhost:8080/",
          "height": 756
        },
        "id": "3J7UzEVKKWop",
        "outputId": "4fbca5d7-6572-48e0-e25e-93e3b7ca610a"
      },
      "outputs": [
        {
          "ename": "IndexError",
          "evalue": "ignored",
          "output_type": "error",
          "traceback": [
            "\u001b[0;31m---------------------------------------------------------------------------\u001b[0m",
            "\u001b[0;31mIndexError\u001b[0m                                Traceback (most recent call last)",
            "\u001b[0;32m<ipython-input-53-fb32376fb954>\u001b[0m in \u001b[0;36m<cell line: 1>\u001b[0;34m()\u001b[0m\n\u001b[0;32m----> 1\u001b[0;31m \u001b[0mcheck_case_with_slight_neighbor_preference\u001b[0m\u001b[0;34m(\u001b[0m\u001b[0;34m)\u001b[0m\u001b[0;34m\u001b[0m\u001b[0;34m\u001b[0m\u001b[0m\n\u001b[0m",
            "\u001b[0;32m<ipython-input-51-c115bfafd06c>\u001b[0m in \u001b[0;36mcheck_case_with_slight_neighbor_preference\u001b[0;34m()\u001b[0m\n\u001b[1;32m     61\u001b[0m   their neighbors to match their color.\"\"\"\n\u001b[1;32m     62\u001b[0m   \u001b[0mboard\u001b[0m \u001b[0;34m=\u001b[0m \u001b[0mcreate_random_board\u001b[0m\u001b[0;34m(\u001b[0m\u001b[0;36m20\u001b[0m\u001b[0;34m,\u001b[0m \u001b[0;36m20\u001b[0m\u001b[0;34m,\u001b[0m \u001b[0;36m0.45\u001b[0m\u001b[0;34m,\u001b[0m \u001b[0;36m0.45\u001b[0m\u001b[0;34m)\u001b[0m\u001b[0;34m\u001b[0m\u001b[0;34m\u001b[0m\u001b[0m\n\u001b[0;32m---> 63\u001b[0;31m   \u001b[0mresolve_board\u001b[0m\u001b[0;34m(\u001b[0m\u001b[0mboard\u001b[0m\u001b[0;34m,\u001b[0m \u001b[0;36m0.2\u001b[0m\u001b[0;34m,\u001b[0m \u001b[0;36m0.2\u001b[0m\u001b[0;34m)\u001b[0m\u001b[0;34m\u001b[0m\u001b[0;34m\u001b[0m\u001b[0m\n\u001b[0m\u001b[1;32m     64\u001b[0m \u001b[0;34m\u001b[0m\u001b[0m\n\u001b[1;32m     65\u001b[0m \u001b[0;32mdef\u001b[0m \u001b[0mcheck_case_with_large_crowded_board\u001b[0m\u001b[0;34m(\u001b[0m\u001b[0;34m)\u001b[0m\u001b[0;34m:\u001b[0m\u001b[0;34m\u001b[0m\u001b[0;34m\u001b[0m\u001b[0m\n",
            "\u001b[0;32m<ipython-input-50-030de8595b6b>\u001b[0m in \u001b[0;36mresolve_board\u001b[0;34m(board, red_fraction, blue_fraction)\u001b[0m\n\u001b[1;32m    293\u001b[0m   \u001b[0miteration\u001b[0m \u001b[0;34m=\u001b[0m \u001b[0;36m0\u001b[0m                       \u001b[0;31m# should be updated in student code\u001b[0m\u001b[0;34m\u001b[0m\u001b[0;34m\u001b[0m\u001b[0m\n\u001b[1;32m    294\u001b[0m   \u001b[0mhow_finished\u001b[0m \u001b[0;34m=\u001b[0m \u001b[0;34m'NOT successfully'\u001b[0m   \u001b[0;31m# should be updated in student code\u001b[0m\u001b[0;34m\u001b[0m\u001b[0;34m\u001b[0m\u001b[0m\n\u001b[0;32m--> 295\u001b[0;31m   \u001b[0mvisualize_board\u001b[0m\u001b[0;34m(\u001b[0m\u001b[0mboard\u001b[0m\u001b[0;34m,\u001b[0m \u001b[0mred_fraction\u001b[0m\u001b[0;34m,\u001b[0m \u001b[0mblue_fraction\u001b[0m\u001b[0;34m,\u001b[0m \u001b[0miteration\u001b[0m\u001b[0;34m)\u001b[0m\u001b[0;34m\u001b[0m\u001b[0;34m\u001b[0m\u001b[0m\n\u001b[0m\u001b[1;32m    296\u001b[0m \u001b[0;34m\u001b[0m\u001b[0m\n\u001b[1;32m    297\u001b[0m   \u001b[0;31m# INSERT STUDENT CODE HERE:\u001b[0m\u001b[0;34m\u001b[0m\u001b[0;34m\u001b[0m\u001b[0m\n",
            "\u001b[0;32m<ipython-input-49-b8d22a39c36c>\u001b[0m in \u001b[0;36mvisualize_board\u001b[0;34m(board, red_fraction, blue_fraction, iteration)\u001b[0m\n\u001b[1;32m     72\u001b[0m \u001b[0;34m\u001b[0m\u001b[0m\n\u001b[1;32m     73\u001b[0m   \u001b[0;31m# Plot a yellow 'X' on all the unhappy cells, as determined by your function.\u001b[0m\u001b[0;34m\u001b[0m\u001b[0;34m\u001b[0m\u001b[0m\n\u001b[0;32m---> 74\u001b[0;31m   \u001b[0mhappiness_map\u001b[0m \u001b[0;34m=\u001b[0m \u001b[0mboard_cells_are_happy\u001b[0m\u001b[0;34m(\u001b[0m\u001b[0mboard\u001b[0m\u001b[0;34m,\u001b[0m \u001b[0mred_fraction\u001b[0m\u001b[0;34m,\u001b[0m \u001b[0mblue_fraction\u001b[0m\u001b[0;34m)\u001b[0m\u001b[0;34m\u001b[0m\u001b[0;34m\u001b[0m\u001b[0m\n\u001b[0m\u001b[1;32m     75\u001b[0m \u001b[0;34m\u001b[0m\u001b[0m\n\u001b[1;32m     76\u001b[0m   \u001b[0mboard_size\u001b[0m \u001b[0;34m=\u001b[0m \u001b[0mlen\u001b[0m\u001b[0;34m(\u001b[0m\u001b[0mboard\u001b[0m\u001b[0;34m)\u001b[0m\u001b[0;34m\u001b[0m\u001b[0;34m\u001b[0m\u001b[0m\n",
            "\u001b[0;32m<ipython-input-50-030de8595b6b>\u001b[0m in \u001b[0;36mboard_cells_are_happy\u001b[0;34m(board, red_fraction, blue_fraction)\u001b[0m\n\u001b[1;32m     59\u001b[0m             \u001b[0;32mfor\u001b[0m \u001b[0minrow\u001b[0m \u001b[0;32min\u001b[0m \u001b[0mrange\u001b[0m\u001b[0;34m(\u001b[0m\u001b[0mrow\u001b[0m\u001b[0;34m-\u001b[0m\u001b[0;36m1\u001b[0m\u001b[0;34m,\u001b[0m\u001b[0mrow\u001b[0m\u001b[0;34m+\u001b[0m\u001b[0;36m1\u001b[0m\u001b[0;34m)\u001b[0m\u001b[0;34m:\u001b[0m\u001b[0;34m\u001b[0m\u001b[0;34m\u001b[0m\u001b[0m\n\u001b[1;32m     60\u001b[0m               \u001b[0;32mfor\u001b[0m \u001b[0mincol\u001b[0m \u001b[0;32min\u001b[0m \u001b[0mrange\u001b[0m\u001b[0;34m(\u001b[0m\u001b[0mcol\u001b[0m\u001b[0;34m-\u001b[0m\u001b[0;36m1\u001b[0m\u001b[0;34m,\u001b[0m\u001b[0mcol\u001b[0m\u001b[0;34m+\u001b[0m\u001b[0;36m1\u001b[0m\u001b[0;34m)\u001b[0m\u001b[0;34m:\u001b[0m\u001b[0;34m\u001b[0m\u001b[0;34m\u001b[0m\u001b[0m\n\u001b[0;32m---> 61\u001b[0;31m                 \u001b[0melement_test\u001b[0m \u001b[0;34m=\u001b[0m \u001b[0mboard\u001b[0m\u001b[0;34m[\u001b[0m\u001b[0minrow\u001b[0m\u001b[0;34m,\u001b[0m \u001b[0mincol\u001b[0m\u001b[0;34m]\u001b[0m\u001b[0;34m\u001b[0m\u001b[0;34m\u001b[0m\u001b[0m\n\u001b[0m\u001b[1;32m     62\u001b[0m                 \u001b[0;32mif\u001b[0m \u001b[0melement_test\u001b[0m \u001b[0;34m==\u001b[0m\u001b[0;36m1\u001b[0m\u001b[0;34m:\u001b[0m\u001b[0;34m\u001b[0m\u001b[0;34m\u001b[0m\u001b[0m\n\u001b[1;32m     63\u001b[0m                   \u001b[0mred_count\u001b[0m\u001b[0;34m=\u001b[0m\u001b[0;34m+\u001b[0m\u001b[0;36m1\u001b[0m\u001b[0;34m\u001b[0m\u001b[0;34m\u001b[0m\u001b[0m\n",
            "\u001b[0;31mIndexError\u001b[0m: index 20 is out of bounds for axis 1 with size 20"
          ]
        },
        {
          "data": {
            "image/png": "[encoded data removed]",
            "text/plain": [
              "<Figure size 640x480 with 1 Axes>"
            ]
          },
          "metadata": {},
          "output_type": "display_data"
        }
      ],
      "source": [
        "check_case_with_slight_neighbor_preference()"
      ]
    },
    {
      "cell_type": "code",
      "execution_count": null,
      "metadata": {
        "id": "JN9Ak8tVKa27"
      },
      "outputs": [],
      "source": [
        "check_case_with_large_crowded_board()"
      ]
    },
    {
      "cell_type": "code",
      "execution_count": null,
      "metadata": {
        "id": "ZzXmTeW9KcLM"
      },
      "outputs": [],
      "source": [
        "# Feel free to change the customizable inputs given here.\n",
        "check_random_case_with_board_size_fraction_density(3, 5, 0.5, 0.5, 0.25, 0.25)"
      ]
    },
    {
      "cell_type": "code",
      "execution_count": null,
      "metadata": {
        "id": "PjUdeP2tKhvC"
      },
      "outputs": [],
      "source": []
    }
  ],
  "metadata": {
    "colab": {
      "provenance": []
    },
    "kernelspec": {
      "display_name": "Python 3",
      "name": "python3"
    },
    "language_info": {
      "name": "python"
    }
  },
  "nbformat": 4,
  "nbformat_minor": 0
}
